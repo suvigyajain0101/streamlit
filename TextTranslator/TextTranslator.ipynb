{
  "nbformat": 4,
  "nbformat_minor": 0,
  "metadata": {
    "colab": {
      "name": "TextTranslator.ipynb",
      "provenance": [],
      "authorship_tag": "ABX9TyP47iwRzUDZYHPRBN8UtKns"
    },
    "kernelspec": {
      "name": "python3",
      "display_name": "Python 3"
    },
    "language_info": {
      "name": "python"
    }
  },
  "cells": [
    {
      "cell_type": "code",
      "source": [
        ""
      ],
      "metadata": {
        "id": "wiOUQAIjP197"
      },
      "execution_count": null,
      "outputs": []
    },
    {
      "cell_type": "code",
      "source": [
        "! pip install transformers\n",
        "! pip install sentencepiece"
      ],
      "metadata": {
        "id": "hs7TBMGPG6Va"
      },
      "execution_count": null,
      "outputs": []
    },
    {
      "cell_type": "code",
      "source": [
        "from transformers import MBartForConditionalGeneration, MBart50TokenizerFast\n",
        "\n",
        "model = MBartForConditionalGeneration.from_pretrained(\"facebook/mbart-large-50-many-to-many-mmt\")\n",
        "tokenizer = MBart50TokenizerFast.from_pretrained(\"facebook/mbart-large-50-many-to-many-mmt\")"
      ],
      "metadata": {
        "id": "g_cxkqyLHlwQ"
      },
      "execution_count": 13,
      "outputs": []
    },
    {
      "cell_type": "code",
      "source": [
        "def translator(input_sentence, input_lang_code, output_lang_code, model=model,tokenizer=tokenizer):\n",
        "  # Assign Input Language to the tokenizer\n",
        "  tokenizer.src_lang = input_lang_code\n",
        "\n",
        "  # Encode Input Sentence\n",
        "  encoded_input = tokenizer(input_sentence, return_tensors=\"pt\")\n",
        "\n",
        "  # Generate Output Tokens\n",
        "  generated_tokens = model.generate(**encoded_input, forced_bos_token_id=tokenizer.lang_code_to_id[output_lang_code])\n",
        "\n",
        "  # Convert Tokens to Sequence\n",
        "  output_sentence = tokenizer.batch_decode(generated_tokens, skip_special_tokens=True)\n",
        "\n",
        "  return output_sentence"
      ],
      "metadata": {
        "id": "y66DqKa6MQM6"
      },
      "execution_count": 14,
      "outputs": []
    },
    {
      "cell_type": "code",
      "source": [
        "lang_name_to_code = {'Arabic' : 'ar_AR', \n",
        "                 'Czech' : 'cs_CZ', \n",
        "                 'German' : 'de_DE', \n",
        "                 'English' : 'en_XX', \n",
        "                 'Spanish' : 'es_XX', \n",
        "                 'Estonian' : 'et_EE', \n",
        "                 'Finnish' : 'fi_FI', \n",
        "                 'French' : 'fr_XX', \n",
        "                 'Gujrati' : 'gu_IN', \n",
        "                 'Hindi' : 'hi_IN', \n",
        "                 'Italian' : 'it_IT', \n",
        "                 'Japanese' : 'ja_XX', \n",
        "                 'Kazakh' : 'kk_KZ', \n",
        "                 'Korean' : 'ko_KR', \n",
        "                 'Lithuanian' : 'lt_LT', \n",
        "                 'Latvian' : 'lv_LV', \n",
        "                 'Burmese' : 'my_MM', \n",
        "                 'Nepali' : 'ne_NP', \n",
        "                 'Dutch' : 'nl_XX', \n",
        "                 'Romanian' : 'ro_RO', \n",
        "                 'Russian' : 'ru_RU', \n",
        "                 'Sinhalese' : 'si_LK', \n",
        "                 'Turkish' : 'tr_TR', \n",
        "                 'Vietnamese' : 'vi_VN', \n",
        "                 'Chinese' : 'zh_CN'}\n",
        "\n",
        "lang_code_to_name = {}\n",
        "for k,v in lang_name_to_code.items():\n",
        "  lang_code_to_name[v] = k"
      ],
      "metadata": {
        "id": "EmXtDAs6JIWq"
      },
      "execution_count": 15,
      "outputs": []
    },
    {
      "cell_type": "code",
      "source": [
        "inputs = [\n",
        "          ['Yo! How are you?', 'English', 'Hindi'],\n",
        "          ['Comment ça va?', 'French', 'Chinese'],\n",
        "          ['come va?', 'Italian', 'Turkish'],\n",
        "          ['Қалайсыз?', 'Kazakh', 'Finnish'],\n",
        "          ['잘 지내고 있나요?', 'Korean', 'German']\n",
        "]"
      ],
      "metadata": {
        "id": "bLfKLhg_NMe8"
      },
      "execution_count": 16,
      "outputs": []
    },
    {
      "cell_type": "code",
      "source": [
        "for inp in inputs:\n",
        "  sent = inp[0]\n",
        "  input_ln = inp[1]\n",
        "  output_ln = inp[2]\n",
        "  input_lc = lang_name_to_code[input_ln]\n",
        "  output_lc = lang_name_to_code[output_ln]\n",
        "\n",
        "  print(f'Translating from {input_ln} to {output_ln}')\n",
        "  print('Input Sentence : ', sent)\n",
        "  output_sent = translator(sent, input_lc, output_lc)\n",
        "  print('Output Sentence : ', output_sent)"
      ],
      "metadata": {
        "colab": {
          "base_uri": "https://localhost:8080/"
        },
        "id": "N8r_t6x2OQGT",
        "outputId": "5ac7a2cd-ae69-4853-cde5-4ba09cb8b6f7"
      },
      "execution_count": 17,
      "outputs": [
        {
          "output_type": "stream",
          "name": "stdout",
          "text": [
            "Translating from English to Hindi\n",
            "Input Sentence :  Yo! How are you?\n",
            "Output Sentence :  ['तुम कैसे हो?']\n",
            "Translating from French to Chinese\n",
            "Input Sentence :  Comment ça va?\n",
            "Output Sentence :  ['如何?']\n",
            "Translating from Italian to Turkish\n",
            "Input Sentence :  come va?\n",
            "Output Sentence :  ['Ne var?']\n",
            "Translating from Kazakh to Finnish\n",
            "Input Sentence :  Қалайсыз?\n",
            "Output Sentence :  ['Ei?']\n",
            "Translating from Korean to German\n",
            "Input Sentence :  잘 지내고 있나요?\n",
            "Output Sentence :  ['Sind Sie gesund?']\n"
          ]
        }
      ]
    }
  ]
}