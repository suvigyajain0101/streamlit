{
  "nbformat": 4,
  "nbformat_minor": 0,
  "metadata": {
    "colab": {
      "name": "uber_pickups.ipynb",
      "provenance": [],
      "authorship_tag": "ABX9TyPj2VoaaxM+lP9/waaR+zH8"
    },
    "kernelspec": {
      "name": "python3",
      "display_name": "Python 3"
    },
    "language_info": {
      "name": "python"
    }
  },
  "cells": [
    {
      "cell_type": "markdown",
      "source": [
        "# Uber Pickups - Streamlit App\n",
        "\n",
        "This notebook contains example to create a Streamlit app using Uber pickup data\n",
        "\n",
        "The code needs to be saved as a .py file and can be run simply using \n",
        "$streamlit run <code_name.py>"
      ],
      "metadata": {
        "id": "OZezLr4F71bt"
      }
    },
    {
      "cell_type": "code",
      "source": [
        "import streamlit as st\n",
        "import pandas as pd\n",
        "import numpy as np\n",
        "\n"
      ],
      "metadata": {
        "id": "No4BRt_n8I9w"
      },
      "execution_count": null,
      "outputs": []
    },
    {
      "cell_type": "markdown",
      "source": [
        "### Give the title to the app"
      ],
      "metadata": {
        "id": "BzYZddbw8NeS"
      }
    },
    {
      "cell_type": "code",
      "source": [
        "st.title('Uber pickups in NYC')"
      ],
      "metadata": {
        "id": "gnZn1SEJ8SAL"
      },
      "execution_count": null,
      "outputs": []
    },
    {
      "cell_type": "code",
      "source": [
        "# Some data specific globals - \n",
        "\n",
        "DATE_COLUMN = 'date/time'\n",
        "DATA_URL = ('https://s3-us-west-2.amazonaws.com/'\n",
        "         'streamlit-demo-data/uber-raw-data-sep14.csv.gz')\n"
      ],
      "metadata": {
        "id": "wQIVrJuJ8N4N"
      },
      "execution_count": null,
      "outputs": []
    },
    {
      "cell_type": "markdown",
      "source": [
        "### Download and cache the data\n",
        "\n",
        "We don't want to download the data everytime the app is reloaded, instead we'll use built-in caching decorator"
      ],
      "metadata": {
        "id": "QQbl_ygD8N_E"
      }
    },
    {
      "cell_type": "code",
      "source": [
        "@st.cache\n",
        "def load_data(nrows):\n",
        "    data = pd.read_csv(DATA_URL, nrows=nrows)\n",
        "    lowercase = lambda x: str(x).lower()\n",
        "    data.rename(lowercase, axis='columns', inplace=True)\n",
        "    data[DATE_COLUMN] = pd.to_datetime(data[DATE_COLUMN])\n",
        "    return data\n",
        "\n",
        "# Create a text element and let the reader know the data is loading.\n",
        "data_load_state = st.text('Loading data...')\n",
        "# Load 10,000 rows of data into the dataframe.\n",
        "data = load_data(10000)\n",
        "# Notify the reader that the data was successfully loaded.\n",
        "data_load_state.text(\"Done! (using st.cache)\")"
      ],
      "metadata": {
        "id": "GOqvDucH8bKi"
      },
      "execution_count": null,
      "outputs": []
    },
    {
      "cell_type": "markdown",
      "source": [
        "### Preview data"
      ],
      "metadata": {
        "id": "hQVDucdT9NH7"
      }
    },
    {
      "cell_type": "code",
      "source": [
        "# As per the documentation, st.write can take multiple types of data and render on the browser.\n",
        "# Here, we are passing a dataframe\n",
        "st.subheader('Raw data')\n",
        "st.write(data)"
      ],
      "metadata": {
        "id": "tV6GnLRx9OxS"
      },
      "execution_count": null,
      "outputs": []
    },
    {
      "cell_type": "markdown",
      "source": [
        "### Create a Bar Chart"
      ],
      "metadata": {
        "id": "ahfayaBS8OFn"
      }
    },
    {
      "cell_type": "code",
      "source": [
        "# To start, let's add a subheader just below the raw data section:\n",
        "st.subheader('Number of pickups by hour')\n",
        "# Use NumPy to generate a histogram that breaks down pickup times binned by hour\n",
        "hist_values = np.histogram(\n",
        "    data[DATE_COLUMN].dt.hour, bins=24, range=(0,24))[0]\n",
        "# Use built-in bar_chart to display the bar chart\n",
        "st.bar_chart(hist_values)"
      ],
      "metadata": {
        "id": "IJzILieZ8OLv"
      },
      "execution_count": null,
      "outputs": []
    },
    {
      "cell_type": "markdown",
      "source": [
        "### Plot data on a map\n",
        "\n",
        "st.map() renders fully interactive map. That's pretty impressive!"
      ],
      "metadata": {
        "id": "VivY0aHc8ORo"
      }
    },
    {
      "cell_type": "code",
      "source": [
        "st.subheader('Map of all pickups')\n",
        "st.map(data)"
      ],
      "metadata": {
        "id": "RIAOj-vl-g44"
      },
      "execution_count": null,
      "outputs": []
    },
    {
      "cell_type": "code",
      "source": [
        "# Plot the map at a certain time - we found that the pickups were most busy at 5PM, let's filter the data and plot\n",
        "\n",
        "hour_to_filter = 17\n",
        "filtered_data = data[data[DATE_COLUMN].dt.hour == hour_to_filter]\n",
        "st.subheader(f'Map of all pickups at {hour_to_filter}:00')\n",
        "st.map(filtered_data)"
      ],
      "metadata": {
        "id": "YxJa7GEg-oIZ"
      },
      "execution_count": null,
      "outputs": []
    },
    {
      "cell_type": "code",
      "source": [
        "# Plot a dynamic map - Let user select the hour of the day and use that to filter the data and plot on the map\n",
        "\n",
        "hour_to_filter = st.slider('hour', 0, 23, 17)\n",
        "filtered_data = data[data[DATE_COLUMN].dt.hour == hour_to_filter]\n",
        "st.subheader(f'Dynamic Map of all pickups at {hour_to_filter}:00')\n",
        "st.map(filtered_data)"
      ],
      "metadata": {
        "id": "68NISu8i_l34"
      },
      "execution_count": null,
      "outputs": []
    },
    {
      "cell_type": "markdown",
      "source": [
        "## Use a button to toggle data\n",
        "Sliders are just one way to dynamically change the composition of your app. Let's use the st.checkbox function to add a checkbox to your app. We'll use this checkbox to show/hide the raw data table at the top of your app.\n",
        "\n",
        "Note that although we are using multiple sub-headers, this is just for demo. Ideally you'd want only 1 section for data preview"
      ],
      "metadata": {
        "id": "Kjm37SZa_uQS"
      }
    },
    {
      "cell_type": "code",
      "source": [
        "if st.checkbox('Show raw data'):\n",
        "    st.subheader('Another preview of the raw data')\n",
        "    st.write(data)"
      ],
      "metadata": {
        "id": "6-RMXnbBACAK"
      },
      "execution_count": null,
      "outputs": []
    }
  ]
}