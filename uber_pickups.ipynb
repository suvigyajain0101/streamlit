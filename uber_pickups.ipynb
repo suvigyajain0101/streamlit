{
  "nbformat": 4,
  "nbformat_minor": 0,
  "metadata": {
    "colab": {
      "name": "uber_pickups.ipynb",
      "provenance": [],
      "authorship_tag": "ABX9TyMzAN0aCNuDX9S5eJojQjfk"
    },
    "kernelspec": {
      "name": "python3",
      "display_name": "Python 3"
    },
    "language_info": {
      "name": "python"
    }
  },
  "cells": [
    {
      "cell_type": "markdown",
      "source": [
        "# Uber Pickups - Streamlit App\n",
        "\n",
        "This notebook contains example to create a Streamlit app using Uber pickup data\n",
        "\n",
        "The code needs to be saved as a .py file and can be run simply using \n",
        "$streamlit run <code_name.py>"
      ],
      "metadata": {
        "id": "OZezLr4F71bt"
      }
    },
    {
      "cell_type": "code",
      "source": [
        "import streamlit as st\n",
        "import pandas as pd\n",
        "import numpy as np\n",
        "\n"
      ],
      "metadata": {
        "id": "No4BRt_n8I9w"
      },
      "execution_count": null,
      "outputs": []
    },
    {
      "cell_type": "markdown",
      "source": [
        "### Give the title to the app"
      ],
      "metadata": {
        "id": "BzYZddbw8NeS"
      }
    },
    {
      "cell_type": "code",
      "source": [
        "st.title('Uber pickups in NYC')"
      ],
      "metadata": {
        "id": "gnZn1SEJ8SAL"
      },
      "execution_count": null,
      "outputs": []
    },
    {
      "cell_type": "code",
      "source": [
        "# Some data specific globals - \n",
        "\n",
        "DATE_COLUMN = 'date/time'\n",
        "DATA_URL = ('https://s3-us-west-2.amazonaws.com/'\n",
        "         'streamlit-demo-data/uber-raw-data-sep14.csv.gz')\n"
      ],
      "metadata": {
        "id": "wQIVrJuJ8N4N"
      },
      "execution_count": null,
      "outputs": []
    },
    {
      "cell_type": "markdown",
      "source": [
        "### Download and cache the data\n",
        "\n",
        "We don't want to download the data everytime the app is reloaded, instead we'll use built-in caching decorator"
      ],
      "metadata": {
        "id": "QQbl_ygD8N_E"
      }
    },
    {
      "cell_type": "code",
      "source": [
        "@st.cache\n",
        "def load_data(nrows):\n",
        "    data = pd.read_csv(DATA_URL, nrows=nrows)\n",
        "    lowercase = lambda x: str(x).lower()\n",
        "    data.rename(lowercase, axis='columns', inplace=True)\n",
        "    data[DATE_COLUMN] = pd.to_datetime(data[DATE_COLUMN])\n",
        "    return data\n",
        "\n",
        "# Create a text element and let the reader know the data is loading.\n",
        "data_load_state = st.text('Loading data...')\n",
        "# Load 10,000 rows of data into the dataframe.\n",
        "data = load_data(10000)\n",
        "# Notify the reader that the data was successfully loaded.\n",
        "data_load_state.text(\"Done! (using st.cache)\")"
      ],
      "metadata": {
        "id": "GOqvDucH8bKi"
      },
      "execution_count": null,
      "outputs": []
    },
    {
      "cell_type": "markdown",
      "source": [
        "### Create a Bar Chart"
      ],
      "metadata": {
        "id": "ahfayaBS8OFn"
      }
    },
    {
      "cell_type": "code",
      "source": [
        "st.subheader('Raw data')\n",
        "st.write(data)\n",
        "\n",
        "st.subheader('Number of pickups by hour')\n",
        "hist_values = np.histogram(\n",
        "    data[DATE_COLUMN].dt.hour, bins=24, range=(0,24))[0]\n",
        "\n",
        "st.bar_chart(hist_values)"
      ],
      "metadata": {
        "id": "IJzILieZ8OLv"
      },
      "execution_count": null,
      "outputs": []
    },
    {
      "cell_type": "code",
      "source": [
        ""
      ],
      "metadata": {
        "id": "VivY0aHc8ORo"
      },
      "execution_count": null,
      "outputs": []
    }
  ]
}